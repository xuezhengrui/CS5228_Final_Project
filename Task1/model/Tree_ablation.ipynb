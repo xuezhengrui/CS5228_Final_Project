{
 "cells": [
  {
   "cell_type": "code",
   "execution_count": 1,
   "id": "8af5b2db",
   "metadata": {},
   "outputs": [],
   "source": [
    "%matplotlib notebook\n",
    "# Some more magic so that the notebook will reload external python modules;\n",
    "# see http://stackoverflow.com/questions/1907993/autoreload-of-modules-in-ipython\n",
    "%load_ext autoreload\n",
    "%autoreload 2"
   ]
  },
  {
   "cell_type": "code",
   "execution_count": 2,
   "id": "db09b071",
   "metadata": {},
   "outputs": [],
   "source": [
    "import numpy as np\n",
    "import pandas as pd\n",
    "\n",
    "import matplotlib.pyplot as plt\n",
    "from sklearn.preprocessing import MinMaxScaler\n",
    "from sklearn.model_selection import GridSearchCV\n",
    "from sklearn.model_selection import KFold\n",
    "from sklearn.tree import DecisionTreeRegressor\n",
    "from sklearn.neural_network import MLPRegressor\n",
    "from sklearn.metrics import mean_squared_error, f1_score\n",
    "\n",
    "DATA_DIR = '../data/'"
   ]
  },
  {
   "cell_type": "code",
   "execution_count": 3,
   "id": "74fbf05b",
   "metadata": {},
   "outputs": [],
   "source": [
    "import sys\n",
    "sys.path.append(\"..\") \n",
    "from EDA_v1 import EDA"
   ]
  },
  {
   "cell_type": "code",
   "execution_count": 4,
   "id": "96ac994c",
   "metadata": {},
   "outputs": [],
   "source": [
    "filepath_test = DATA_DIR + 'test.csv'\n",
    "df_test = pd.read_csv(filepath_test)\n",
    "filepath_train = DATA_DIR + 'train.csv'\n",
    "df_train = pd.read_csv(filepath_train)"
   ]
  },
  {
   "cell_type": "code",
   "execution_count": 5,
   "id": "e25ed1cf",
   "metadata": {},
   "outputs": [],
   "source": [
    "# df_train.head()"
   ]
  },
  {
   "cell_type": "code",
   "execution_count": 6,
   "id": "d8321501",
   "metadata": {},
   "outputs": [
    {
     "name": "stdout",
     "output_type": "stream",
     "text": [
      "CPU times: total: 1.94 s\n",
      "Wall time: 1.93 s\n"
     ]
    }
   ],
   "source": [
    "%%time\n",
    "eda = EDA(df_train.copy(), df_test.copy())\n",
    "eda.setup_ablation() # type + tenure + year + size_sqft + furnishing + lng + lat + plan_area_one_hot"
   ]
  },
  {
   "cell_type": "code",
   "execution_count": 7,
   "id": "09e295a1",
   "metadata": {},
   "outputs": [],
   "source": [
    "# eda.df.info()"
   ]
  },
  {
   "cell_type": "code",
   "execution_count": 8,
   "id": "03d8cefa",
   "metadata": {},
   "outputs": [],
   "source": [
    "#  eda.df_test.info()"
   ]
  },
  {
   "cell_type": "code",
   "execution_count": 9,
   "id": "86c3e8a5",
   "metadata": {},
   "outputs": [],
   "source": [
    "# eda.df.head()"
   ]
  },
  {
   "cell_type": "code",
   "execution_count": 10,
   "id": "371e3d24",
   "metadata": {},
   "outputs": [],
   "source": [
    "# eda.df_test.head()"
   ]
  },
  {
   "cell_type": "code",
   "execution_count": 11,
   "id": "5e030f5d",
   "metadata": {},
   "outputs": [],
   "source": [
    "# eda.df['num_beds'].unique()"
   ]
  },
  {
   "cell_type": "code",
   "execution_count": 12,
   "id": "6e24b871",
   "metadata": {},
   "outputs": [
    {
     "name": "stdout",
     "output_type": "stream",
     "text": [
      "(20029, 72) (6966, 72)\n"
     ]
    }
   ],
   "source": [
    "df_train = eda.df\n",
    "df_test = eda.df_test\n",
    "df_train_y = df_train['price']\n",
    "df_train_X = df_train.drop(columns=['price'])\n",
    "X_train = df_train_X.to_numpy(dtype = 'float32')\n",
    "y_train = df_train_y.to_numpy(dtype = 'float32')\n",
    "X_test = df_test.to_numpy(dtype = 'float32')\n",
    "print(X_train.shape, X_test.shape)"
   ]
  },
  {
   "cell_type": "code",
   "execution_count": 13,
   "id": "05129e08",
   "metadata": {},
   "outputs": [
    {
     "data": {
      "text/plain": [
       "dtype('float32')"
      ]
     },
     "execution_count": 13,
     "metadata": {},
     "output_type": "execute_result"
    }
   ],
   "source": [
    "X_train.dtype"
   ]
  },
  {
   "cell_type": "markdown",
   "id": "7b746825",
   "metadata": {},
   "source": [
    "### Data Scaling"
   ]
  },
  {
   "cell_type": "code",
   "execution_count": 14,
   "id": "f32fca62",
   "metadata": {},
   "outputs": [],
   "source": [
    "for i in range(X_train.shape[1]):\n",
    "    min_max_scaler = MinMaxScaler()\n",
    "    col_train = X_train[:, i]\n",
    "    col_train = col_train.reshape(-1, 1)\n",
    "    col_train = min_max_scaler.fit_transform(col_train)\n",
    "    X_train[:, i] = col_train.reshape(-1)\n",
    "    \n",
    "    col_test = X_test[:, i]\n",
    "    col_test = col_test.reshape(-1, 1)\n",
    "    col_test = min_max_scaler.transform(col_test)\n",
    "    X_test[:, i] = col_test.reshape(-1)\n",
    "\n",
    "y_train = y_train.reshape(-1)\n",
    "# y_train = y_train / 100"
   ]
  },
  {
   "cell_type": "code",
   "execution_count": 15,
   "id": "f9bd8902",
   "metadata": {},
   "outputs": [
    {
     "name": "stdout",
     "output_type": "stream",
     "text": [
      "(20029, 72) (20029,)\n",
      "[ 514500.  995400. 8485000. ... 4193700.  754800. 4178000.]\n"
     ]
    }
   ],
   "source": [
    "print(X_train.shape, y_train.shape)\n",
    "print(y_train)"
   ]
  },
  {
   "cell_type": "code",
   "execution_count": 16,
   "id": "cb196c06",
   "metadata": {},
   "outputs": [
    {
     "name": "stdout",
     "output_type": "stream",
     "text": [
      "Fitting 5 folds for each of 36 candidates, totalling 180 fits\n",
      "rmse on training set:  376692.5900181266\n",
      "random_state:  10\n",
      "{'max_depth': 16, 'min_samples_leaf': 1, 'min_samples_split': 2} -1664250.833274186\n",
      "CPU times: total: 578 ms\n",
      "Wall time: 7.66 s\n"
     ]
    }
   ],
   "source": [
    "%%time\n",
    "random_state = 10\n",
    "param_test = {'max_depth':[16, 64, 256, 1024], 'min_samples_split':[2, 16, 64], 'min_samples_leaf':[1, 2, 4]}\n",
    "# param_test = {'min_samples_split':[2, 16, 64, 256, 1024]}\n",
    "gsearch5 = GridSearchCV(estimator = DecisionTreeRegressor(#min_samples_split=2,\n",
    "#                                                               max_depth=3,\n",
    "                                                              random_state=random_state),\n",
    "                                                              param_grid = param_test, \n",
    "                                                              scoring='neg_root_mean_squared_error',\n",
    "                                                              n_jobs=4,\n",
    "                                                              cv=5, verbose=3)\n",
    "gsearch5.fit(X_train, y_train)\n",
    "y_train_pred = gsearch5.predict(X_train)\n",
    "print('rmse on training set: ', np.sqrt(mean_squared_error(y_train_pred, y_train)))\n",
    "print('random_state: ', random_state)\n",
    "model = gsearch5\n",
    "print(gsearch5.best_params_, gsearch5.best_score_)"
   ]
  },
  {
   "cell_type": "code",
   "execution_count": 17,
   "id": "cb15ea12",
   "metadata": {},
   "outputs": [
    {
     "data": {
      "text/plain": [
       "{'mean_fit_time': array([0.1270277 , 0.10822353, 0.10022235, 0.11522608, 0.1084239 ,\n",
       "        0.10942469, 0.12682891, 0.11942639, 0.11502523, 0.14223189,\n",
       "        0.1276288 , 0.11742611, 0.15103393, 0.12942905, 0.11782603,\n",
       "        0.12782927, 0.12082686, 0.13142872, 0.15783563, 0.12002692,\n",
       "        0.10662322, 0.14023123, 0.12502809, 0.11962681, 0.12202697,\n",
       "        0.11562514, 0.10502372, 0.14803324, 0.12162848, 0.10022235,\n",
       "        0.14022908, 0.11802664, 0.10582376, 0.12522874, 0.1220274 ,\n",
       "        0.10662389]),\n",
       " 'std_fit_time': array([0.00729563, 0.00407097, 0.00376403, 0.00947552, 0.004759  ,\n",
       "        0.01392485, 0.01222327, 0.01217819, 0.00498047, 0.01205927,\n",
       "        0.0073926 , 0.00287165, 0.01115605, 0.01317262, 0.01049787,\n",
       "        0.00840154, 0.00541952, 0.0117264 , 0.01501457, 0.00525538,\n",
       "        0.00527781, 0.00503704, 0.00678393, 0.00653181, 0.01014148,\n",
       "        0.0059539 , 0.00260784, 0.01029785, 0.00866358, 0.01010942,\n",
       "        0.01269005, 0.00865047, 0.00435544, 0.00479224, 0.00756505,\n",
       "        0.01363505]),\n",
       " 'mean_score_time': array([0.00160041, 0.001401  , 0.00100031, 0.00160055, 0.00140057,\n",
       "        0.00140018, 0.0012002 , 0.0014008 , 0.0010005 , 0.00180068,\n",
       "        0.00160036, 0.00139999, 0.00140028, 0.00160027, 0.00120082,\n",
       "        0.00180068, 0.00100031, 0.00160041, 0.00180054, 0.00140076,\n",
       "        0.0010006 , 0.00160089, 0.00160069, 0.00140023, 0.00140038,\n",
       "        0.00120053, 0.00100045, 0.00200081, 0.00139937, 0.00100026,\n",
       "        0.00160055, 0.00120029, 0.00100036, 0.0018002 , 0.00100045,\n",
       "        0.00140028]),\n",
       " 'std_score_time': array([4.89609433e-04, 4.90135401e-04, 2.86102295e-07, 4.90115848e-04,\n",
       "        4.90096089e-04, 4.89628886e-04, 4.00185880e-04, 4.89804047e-04,\n",
       "        5.56082906e-07, 4.00138338e-04, 4.90154704e-04, 4.89979428e-04,\n",
       "        4.90524552e-04, 4.89882548e-04, 4.00233421e-04, 4.00138509e-04,\n",
       "        4.42200589e-07, 4.89998769e-04, 4.00185738e-04, 4.89843034e-04,\n",
       "        8.03580262e-07, 4.89999140e-04, 4.90037810e-04, 4.89590053e-04,\n",
       "        4.90057117e-04, 4.00257139e-04, 2.33601546e-07, 3.69356475e-07,\n",
       "        4.90585368e-04, 1.16800773e-07, 4.89823608e-04, 3.99900886e-04,\n",
       "        2.33601546e-07, 3.99780472e-04, 3.50402318e-07, 4.90037694e-04]),\n",
       " 'param_max_depth': masked_array(data=[16, 16, 16, 16, 16, 16, 16, 16, 16, 64, 64, 64, 64, 64,\n",
       "                    64, 64, 64, 64, 256, 256, 256, 256, 256, 256, 256, 256,\n",
       "                    256, 1024, 1024, 1024, 1024, 1024, 1024, 1024, 1024,\n",
       "                    1024],\n",
       "              mask=[False, False, False, False, False, False, False, False,\n",
       "                    False, False, False, False, False, False, False, False,\n",
       "                    False, False, False, False, False, False, False, False,\n",
       "                    False, False, False, False, False, False, False, False,\n",
       "                    False, False, False, False],\n",
       "        fill_value='?',\n",
       "             dtype=object),\n",
       " 'param_min_samples_leaf': masked_array(data=[1, 1, 1, 2, 2, 2, 4, 4, 4, 1, 1, 1, 2, 2, 2, 4, 4, 4,\n",
       "                    1, 1, 1, 2, 2, 2, 4, 4, 4, 1, 1, 1, 2, 2, 2, 4, 4, 4],\n",
       "              mask=[False, False, False, False, False, False, False, False,\n",
       "                    False, False, False, False, False, False, False, False,\n",
       "                    False, False, False, False, False, False, False, False,\n",
       "                    False, False, False, False, False, False, False, False,\n",
       "                    False, False, False, False],\n",
       "        fill_value='?',\n",
       "             dtype=object),\n",
       " 'param_min_samples_split': masked_array(data=[2, 16, 64, 2, 16, 64, 2, 16, 64, 2, 16, 64, 2, 16, 64,\n",
       "                    2, 16, 64, 2, 16, 64, 2, 16, 64, 2, 16, 64, 2, 16, 64,\n",
       "                    2, 16, 64, 2, 16, 64],\n",
       "              mask=[False, False, False, False, False, False, False, False,\n",
       "                    False, False, False, False, False, False, False, False,\n",
       "                    False, False, False, False, False, False, False, False,\n",
       "                    False, False, False, False, False, False, False, False,\n",
       "                    False, False, False, False],\n",
       "        fill_value='?',\n",
       "             dtype=object),\n",
       " 'params': [{'max_depth': 16, 'min_samples_leaf': 1, 'min_samples_split': 2},\n",
       "  {'max_depth': 16, 'min_samples_leaf': 1, 'min_samples_split': 16},\n",
       "  {'max_depth': 16, 'min_samples_leaf': 1, 'min_samples_split': 64},\n",
       "  {'max_depth': 16, 'min_samples_leaf': 2, 'min_samples_split': 2},\n",
       "  {'max_depth': 16, 'min_samples_leaf': 2, 'min_samples_split': 16},\n",
       "  {'max_depth': 16, 'min_samples_leaf': 2, 'min_samples_split': 64},\n",
       "  {'max_depth': 16, 'min_samples_leaf': 4, 'min_samples_split': 2},\n",
       "  {'max_depth': 16, 'min_samples_leaf': 4, 'min_samples_split': 16},\n",
       "  {'max_depth': 16, 'min_samples_leaf': 4, 'min_samples_split': 64},\n",
       "  {'max_depth': 64, 'min_samples_leaf': 1, 'min_samples_split': 2},\n",
       "  {'max_depth': 64, 'min_samples_leaf': 1, 'min_samples_split': 16},\n",
       "  {'max_depth': 64, 'min_samples_leaf': 1, 'min_samples_split': 64},\n",
       "  {'max_depth': 64, 'min_samples_leaf': 2, 'min_samples_split': 2},\n",
       "  {'max_depth': 64, 'min_samples_leaf': 2, 'min_samples_split': 16},\n",
       "  {'max_depth': 64, 'min_samples_leaf': 2, 'min_samples_split': 64},\n",
       "  {'max_depth': 64, 'min_samples_leaf': 4, 'min_samples_split': 2},\n",
       "  {'max_depth': 64, 'min_samples_leaf': 4, 'min_samples_split': 16},\n",
       "  {'max_depth': 64, 'min_samples_leaf': 4, 'min_samples_split': 64},\n",
       "  {'max_depth': 256, 'min_samples_leaf': 1, 'min_samples_split': 2},\n",
       "  {'max_depth': 256, 'min_samples_leaf': 1, 'min_samples_split': 16},\n",
       "  {'max_depth': 256, 'min_samples_leaf': 1, 'min_samples_split': 64},\n",
       "  {'max_depth': 256, 'min_samples_leaf': 2, 'min_samples_split': 2},\n",
       "  {'max_depth': 256, 'min_samples_leaf': 2, 'min_samples_split': 16},\n",
       "  {'max_depth': 256, 'min_samples_leaf': 2, 'min_samples_split': 64},\n",
       "  {'max_depth': 256, 'min_samples_leaf': 4, 'min_samples_split': 2},\n",
       "  {'max_depth': 256, 'min_samples_leaf': 4, 'min_samples_split': 16},\n",
       "  {'max_depth': 256, 'min_samples_leaf': 4, 'min_samples_split': 64},\n",
       "  {'max_depth': 1024, 'min_samples_leaf': 1, 'min_samples_split': 2},\n",
       "  {'max_depth': 1024, 'min_samples_leaf': 1, 'min_samples_split': 16},\n",
       "  {'max_depth': 1024, 'min_samples_leaf': 1, 'min_samples_split': 64},\n",
       "  {'max_depth': 1024, 'min_samples_leaf': 2, 'min_samples_split': 2},\n",
       "  {'max_depth': 1024, 'min_samples_leaf': 2, 'min_samples_split': 16},\n",
       "  {'max_depth': 1024, 'min_samples_leaf': 2, 'min_samples_split': 64},\n",
       "  {'max_depth': 1024, 'min_samples_leaf': 4, 'min_samples_split': 2},\n",
       "  {'max_depth': 1024, 'min_samples_leaf': 4, 'min_samples_split': 16},\n",
       "  {'max_depth': 1024, 'min_samples_leaf': 4, 'min_samples_split': 64}],\n",
       " 'split0_test_score': array([-1958519.20239383, -1926687.46299617, -2207143.11080789,\n",
       "        -2187229.02764748, -1963562.52385085, -2082644.27542733,\n",
       "        -2198734.96310209, -2158863.24438473, -2161683.2645101 ,\n",
       "        -2079059.8232131 , -1839788.84034004, -2207287.80159224,\n",
       "        -2196032.11441705, -1934717.81570907, -2082815.77345558,\n",
       "        -2198790.09905122, -2158934.12122169, -2161412.55241917,\n",
       "        -2079059.8232131 , -1839788.84034004, -2207287.80159224,\n",
       "        -2196032.11441705, -1934717.81570907, -2082815.77345558,\n",
       "        -2198790.09905122, -2158934.12122169, -2161412.55241917,\n",
       "        -2079059.8232131 , -1839788.84034004, -2207287.80159224,\n",
       "        -2196032.11441705, -1934717.81570907, -2082815.77345558,\n",
       "        -2198790.09905122, -2158934.12122169, -2161412.55241917]),\n",
       " 'split1_test_score': array([-1886573.68275921, -2381883.51231833, -2598074.7314191 ,\n",
       "        -1925117.52571652, -2398205.45547497, -2599612.37673751,\n",
       "        -2669750.13218735, -2477095.86519554, -2660474.6033077 ,\n",
       "        -2044929.18222062, -2385372.44252366, -2598032.03085951,\n",
       "        -1890772.41888562, -2397291.82209432, -2599558.9676325 ,\n",
       "        -2669470.92456645, -2477175.92533519, -2660399.37627168,\n",
       "        -2044929.18222062, -2385372.44252366, -2598032.03085951,\n",
       "        -1890772.41888562, -2397291.82209432, -2599558.9676325 ,\n",
       "        -2669470.92456645, -2477175.92533519, -2660399.37627168,\n",
       "        -2044929.18222062, -2385372.44252366, -2598032.03085951,\n",
       "        -1890772.41888562, -2397291.82209432, -2599558.9676325 ,\n",
       "        -2669470.92456645, -2477175.92533519, -2660399.37627168]),\n",
       " 'split2_test_score': array([-1437063.869142  , -1455182.55097022, -1763903.83023333,\n",
       "        -1332507.93173421, -1435237.96229481, -1766225.34284879,\n",
       "        -1448915.66724728, -1539621.1051507 , -1813697.74441613,\n",
       "        -1451700.9409419 , -1459295.27187919, -1763401.22199156,\n",
       "        -1338439.61206252, -1436934.6545771 , -1765660.82596506,\n",
       "        -1447366.53905941, -1539639.35224501, -1812317.25945748,\n",
       "        -1451700.9409419 , -1459295.27187919, -1763401.22199156,\n",
       "        -1338439.61206252, -1436934.6545771 , -1765660.82596506,\n",
       "        -1447366.53905941, -1539639.35224501, -1812317.25945748,\n",
       "        -1451700.9409419 , -1459295.27187919, -1763401.22199156,\n",
       "        -1338439.61206252, -1436934.6545771 , -1765660.82596506,\n",
       "        -1447366.53905941, -1539639.35224501, -1812317.25945748]),\n",
       " 'split3_test_score': array([-1441345.14048493, -1768819.23582647, -1953459.41750441,\n",
       "        -1409335.85153189, -1738480.76224973, -1956322.39927585,\n",
       "        -1764116.77472075, -1825516.83803535, -1999213.51932513,\n",
       "        -1525683.18362888, -1861544.81365952, -1967270.23019733,\n",
       "        -1528057.64223464, -1758797.33109636, -1970190.22774116,\n",
       "        -1781504.77545133, -1847376.53266235, -2004303.29940723,\n",
       "        -1525683.18362888, -1861544.81365952, -1967270.23019733,\n",
       "        -1528057.64223464, -1758797.33109636, -1970190.22774116,\n",
       "        -1781504.77545133, -1847376.53266235, -2004303.29940723,\n",
       "        -1525683.18362888, -1861544.81365952, -1967270.23019733,\n",
       "        -1528057.64223464, -1758797.33109636, -1970190.22774116,\n",
       "        -1781504.77545133, -1847376.53266235, -2004303.29940723]),\n",
       " 'split4_test_score': array([-1597752.27159096, -1996483.58933208, -2040045.42288183,\n",
       "        -1873133.90850791, -2071883.60371928, -2037341.50619765,\n",
       "        -1862572.1737258 , -2087833.3780975 , -2041690.30947482,\n",
       "        -1731692.15601171, -2021534.75372823, -2038214.9170792 ,\n",
       "        -1893434.36261152, -2005318.03578371, -2036774.09145791,\n",
       "        -1856276.89453721, -2089597.82274555, -2041666.23043951,\n",
       "        -1731692.15601171, -2021534.75372823, -2038214.9170792 ,\n",
       "        -1893434.36261152, -2005318.03578371, -2036774.09145791,\n",
       "        -1856276.89453721, -2089597.82274555, -2041666.23043951,\n",
       "        -1731692.15601171, -2021534.75372823, -2038214.9170792 ,\n",
       "        -1893434.36261152, -2005318.03578371, -2036774.09145791,\n",
       "        -1856276.89453721, -2089597.82274555, -2041666.23043951]),\n",
       " 'mean_test_score': array([-1664250.83327419, -1905811.27028865, -2112525.30256931,\n",
       "        -1745464.8490276 , -1921474.06151793, -2088429.18009742,\n",
       "        -1988817.94219665, -2017786.08617276, -2135351.88820678,\n",
       "        -1766613.05720324, -1913507.22442613, -2114841.24034397,\n",
       "        -1769347.23004227, -1906611.93185211, -2090999.97725044,\n",
       "        -1990681.84653312, -2022544.75084196, -2136019.74359901,\n",
       "        -1766613.05720324, -1913507.22442613, -2114841.24034397,\n",
       "        -1769347.23004227, -1906611.93185211, -2090999.97725044,\n",
       "        -1990681.84653312, -2022544.75084196, -2136019.74359901,\n",
       "        -1766613.05720324, -1913507.22442613, -2114841.24034397,\n",
       "        -1769347.23004227, -1906611.93185211, -2090999.97725044,\n",
       "        -1990681.84653312, -2022544.75084196, -2136019.74359901]),\n",
       " 'std_test_score': array([219883.7173248 , 302369.02112303, 281710.13372505, 324729.4815688 ,\n",
       "        322979.6844372 , 277567.71798986, 416090.58587011, 316665.14605692,\n",
       "        285382.10957347, 258270.85059042, 299589.62640879, 280420.60897087,\n",
       "        302027.72188201, 314243.69248527, 276434.52516491, 414987.93205251,\n",
       "        314219.41642097, 285185.51830595, 258270.85059042, 299589.62640879,\n",
       "        280420.60897087, 302027.72188201, 314243.69248527, 276434.52516491,\n",
       "        414987.93205251, 314219.41642097, 285185.51830595, 258270.85059042,\n",
       "        299589.62640879, 280420.60897087, 302027.72188201, 314243.69248527,\n",
       "        276434.52516491, 414987.93205251, 314219.41642097, 285185.51830595]),\n",
       " 'rank_test_score': array([ 1,  9, 29,  2, 16, 25, 17, 21, 33,  3, 13, 30,  6, 10, 26, 18, 22,\n",
       "        34,  3, 13, 30,  6, 10, 26, 18, 22, 34,  3, 13, 30,  6, 10, 26, 18,\n",
       "        22, 34])}"
      ]
     },
     "execution_count": 17,
     "metadata": {},
     "output_type": "execute_result"
    }
   ],
   "source": [
    "gsearch5.cv_results_"
   ]
  },
  {
   "cell_type": "code",
   "execution_count": 18,
   "id": "0f1d6dd6",
   "metadata": {},
   "outputs": [],
   "source": [
    "# %%time\n",
    "# num_data = len(X_train)\n",
    "\n",
    "# sub_feat_idx_s = [0,1,2,3,4,5,7,12]\n",
    "# sub_feat_idx_e = [1,2,3,4,5,7,12,16]\n",
    "# feat_name = ['tenure', 'built_year', 'num_beds', 'num_baths', 'size_sqft', 'lat_lng', 'prop_type', 'furnish']\n",
    "# # 0 -- tenure, 1 -- built_year, 2 -- num_beds, 3 -- num_baths, 4 -- size_sqft, 5,6 -- lat, lng, 7-11 -- property_type, 12-15 -- furnish\n",
    "# for i in range(len(sub_feat_idx_s)):\n",
    "#     X_train_sub = X_train[:, sub_feat_idx_s[i]:sub_feat_idx_e[i]]\n",
    "#     print('-----------{}-----------'.format(feat_name[i]))\n",
    "#     param_test = {'min_samples_split':[2, 16, 64, 256, 1024]}\n",
    "#     gsearch5 = GridSearchCV(estimator = DecisionTreeRegressor(#min_samples_split=2,\n",
    "#     #                                                               max_depth=3,\n",
    "#                                                                   random_state=10),\n",
    "#                                                                   param_grid = param_test, \n",
    "#                                                                   scoring='neg_root_mean_squared_error',\n",
    "#                                                                   n_jobs=4,\n",
    "#                                                                   cv=5, verbose=3)\n",
    "#     gsearch5.fit(X_train_sub, y_train)\n",
    "#     y_train_pred = gsearch5.predict(X_train_sub)\n",
    "#     print(gsearch5.best_params_, gsearch5.best_score_)\n",
    "#     print('rmse on training set: ', np.sqrt(mean_squared_error(y_train_pred, y_train)))"
   ]
  },
  {
   "cell_type": "code",
   "execution_count": 19,
   "id": "b4146a9e",
   "metadata": {},
   "outputs": [],
   "source": [
    "y_test_pred = model.predict(X_test)"
   ]
  },
  {
   "cell_type": "code",
   "execution_count": 20,
   "id": "21fcde52",
   "metadata": {},
   "outputs": [
    {
     "name": "stdout",
     "output_type": "stream",
     "text": [
      "         Predicted\n",
      "Id                \n",
      "0     1.145887e+06\n",
      "1     1.080450e+06\n",
      "2     1.130500e+06\n",
      "3     6.829283e+05\n",
      "4     5.931658e+05\n",
      "...            ...\n",
      "6961  1.680000e+07\n",
      "6962  1.265092e+07\n",
      "6963  3.552600e+06\n",
      "6964  5.112933e+05\n",
      "6965  4.531800e+06\n",
      "\n",
      "[6966 rows x 1 columns]\n"
     ]
    }
   ],
   "source": [
    "y_test_pred_dict = {'Id':np.arange(len(y_test_pred)),\n",
    "       'Predicted': y_test_pred.flatten()}\n",
    "df_y_test_pred = pd.DataFrame(y_test_pred_dict)\n",
    "df_y_test_pred.set_index(['Id'], inplace=True)\n",
    "print(df_y_test_pred)\n",
    "# df_y_test_pred.to_csv(DATA_DIR+\"submission_tree_196w.csv\")"
   ]
  },
  {
   "cell_type": "markdown",
   "id": "5141eb28",
   "metadata": {},
   "source": [
    "## Ablation"
   ]
  },
  {
   "cell_type": "code",
   "execution_count": null,
   "id": "3aa444bb",
   "metadata": {},
   "outputs": [],
   "source": []
  },
  {
   "cell_type": "code",
   "execution_count": 21,
   "id": "2e310cce",
   "metadata": {},
   "outputs": [
    {
     "data": {
      "text/plain": [
       "array([0.01220717, 0.01755508, 0.03493576, 0.01038191, 0.00775446],\n",
       "      dtype=float32)"
      ]
     },
     "execution_count": 21,
     "metadata": {},
     "output_type": "execute_result"
    }
   ],
   "source": [
    "np.set_printoptions(threshold=np.inf)\n",
    "X_train[:5, 2]"
   ]
  },
  {
   "cell_type": "code",
   "execution_count": 22,
   "id": "ccf6780c",
   "metadata": {},
   "outputs": [
    {
     "name": "stdout",
     "output_type": "stream",
     "text": [
      "tenure (20029, 1) (6966, 1)\n",
      "Fitting 5 folds for each of 36 candidates, totalling 180 fits\n",
      "rmse on training set:  4486807.247057997\n",
      "random_state:  10\n",
      "{'max_depth': 16, 'min_samples_leaf': 1, 'min_samples_split': 2} -4480640.5739611145\n",
      "-------------------------------------------------------\n",
      "built_year (20029, 1) (6966, 1)\n",
      "Fitting 5 folds for each of 36 candidates, totalling 180 fits\n",
      "rmse on training set:  4474653.93521629\n",
      "random_state:  10\n",
      "{'max_depth': 16, 'min_samples_leaf': 1, 'min_samples_split': 2} -4469368.048760654\n",
      "-------------------------------------------------------\n",
      "size_sqft (20029, 1) (6966, 1)\n",
      "Fitting 5 folds for each of 36 candidates, totalling 180 fits\n",
      "rmse on training set:  2317063.067114128\n",
      "random_state:  10\n",
      "{'max_depth': 32, 'min_samples_leaf': 1, 'min_samples_split': 6} -2756658.494004461\n",
      "-------------------------------------------------------\n",
      "lat (20029, 1) (6966, 1)\n",
      "Fitting 5 folds for each of 36 candidates, totalling 180 fits\n",
      "rmse on training set:  2343966.181477025\n",
      "random_state:  10\n",
      "{'max_depth': 64, 'min_samples_leaf': 2, 'min_samples_split': 2} -3198181.381271115\n",
      "-------------------------------------------------------\n",
      "lng (20029, 1) (6966, 1)\n",
      "Fitting 5 folds for each of 36 candidates, totalling 180 fits\n",
      "rmse on training set:  2474961.8666799273\n",
      "random_state:  10\n",
      "{'max_depth': 32, 'min_samples_leaf': 2, 'min_samples_split': 2} -3337559.1058329577\n",
      "-------------------------------------------------------\n",
      "property_type (20029, 19) (6966, 19)\n",
      "Fitting 5 folds for each of 36 candidates, totalling 180 fits\n",
      "rmse on training set:  3376388.9782727016\n",
      "random_state:  10\n",
      "{'max_depth': 32, 'min_samples_leaf': 1, 'min_samples_split': 2} -3366778.17125326\n",
      "-------------------------------------------------------\n",
      "furnish (20029, 4) (6966, 4)\n",
      "Fitting 5 folds for each of 36 candidates, totalling 180 fits\n",
      "rmse on training set:  4689695.539274364\n",
      "random_state:  10\n",
      "{'max_depth': 16, 'min_samples_leaf': 1, 'min_samples_split': 2} -4682335.382153297\n",
      "-------------------------------------------------------\n",
      "pl_area (20029, 44) (6966, 44)\n",
      "Fitting 5 folds for each of 36 candidates, totalling 180 fits\n",
      "rmse on training set:  4142849.7983444347\n",
      "random_state:  10\n",
      "{'max_depth': 64, 'min_samples_leaf': 1, 'min_samples_split': 2} -4149347.4136143634\n",
      "-------------------------------------------------------\n",
      "CPU times: total: 1.89 s\n",
      "Wall time: 8.55 s\n"
     ]
    }
   ],
   "source": [
    "%%time\n",
    "\n",
    "col_idx = eda.get_col_idx(eda.df.drop(columns=['price']))\n",
    "mse_dict = {'split': ['Train', 'Val']}\n",
    "for key in col_idx.keys():\n",
    "    ids = col_idx[key]\n",
    "    X_train_sub = X_train[:, ids]\n",
    "    X_test_sub = X_test[:, ids]\n",
    "    print(key, X_train_sub.shape, X_test_sub.shape)\n",
    "    random_state = 10\n",
    "    param_test = {'max_depth':[16, 32, 64, 128], 'min_samples_split':[2, 4, 6], 'min_samples_leaf':[1, 2, 4]}\n",
    "    model = GridSearchCV(estimator = DecisionTreeRegressor(#min_samples_split=2,\n",
    "    #                                                               max_depth=3,\n",
    "                                                                  random_state=random_state),\n",
    "                                                                  param_grid = param_test, \n",
    "                                                                  scoring='neg_root_mean_squared_error',\n",
    "                                                                  n_jobs=4,\n",
    "                                                                  cv=5, verbose=3)\n",
    "    model.fit(X_train_sub, y_train)\n",
    "    y_train_pred = model.predict(X_train_sub)\n",
    "    rmse_train = np.sqrt(mean_squared_error(y_train_pred, y_train))\n",
    "    print('rmse on training set: ', rmse_train)\n",
    "    print('random_state: ', random_state)\n",
    "    print(model.best_params_, model.best_score_)\n",
    "    mse_dict[key] = [rmse_train / 1e6, -model.best_score_ / 1e6]\n",
    "    print('-'*55)"
   ]
  },
  {
   "cell_type": "code",
   "execution_count": 23,
   "id": "e0cdef0e",
   "metadata": {},
   "outputs": [
    {
     "data": {
      "text/html": [
       "<div>\n",
       "<style scoped>\n",
       "    .dataframe tbody tr th:only-of-type {\n",
       "        vertical-align: middle;\n",
       "    }\n",
       "\n",
       "    .dataframe tbody tr th {\n",
       "        vertical-align: top;\n",
       "    }\n",
       "\n",
       "    .dataframe thead th {\n",
       "        text-align: right;\n",
       "    }\n",
       "</style>\n",
       "<table border=\"1\" class=\"dataframe\">\n",
       "  <thead>\n",
       "    <tr style=\"text-align: right;\">\n",
       "      <th></th>\n",
       "      <th>0</th>\n",
       "      <th>1</th>\n",
       "    </tr>\n",
       "  </thead>\n",
       "  <tbody>\n",
       "    <tr>\n",
       "      <th>split</th>\n",
       "      <td>Train</td>\n",
       "      <td>Val</td>\n",
       "    </tr>\n",
       "    <tr>\n",
       "      <th>tenure</th>\n",
       "      <td>4.486807</td>\n",
       "      <td>4.480641</td>\n",
       "    </tr>\n",
       "    <tr>\n",
       "      <th>built_year</th>\n",
       "      <td>4.474654</td>\n",
       "      <td>4.469368</td>\n",
       "    </tr>\n",
       "    <tr>\n",
       "      <th>size_sqft</th>\n",
       "      <td>2.317063</td>\n",
       "      <td>2.756658</td>\n",
       "    </tr>\n",
       "    <tr>\n",
       "      <th>lat</th>\n",
       "      <td>2.343966</td>\n",
       "      <td>3.198181</td>\n",
       "    </tr>\n",
       "  </tbody>\n",
       "</table>\n",
       "</div>"
      ],
      "text/plain": [
       "                   0         1\n",
       "split          Train       Val\n",
       "tenure      4.486807  4.480641\n",
       "built_year  4.474654  4.469368\n",
       "size_sqft   2.317063  2.756658\n",
       "lat         2.343966  3.198181"
      ]
     },
     "execution_count": 23,
     "metadata": {},
     "output_type": "execute_result"
    }
   ],
   "source": [
    "df = pd.DataFrame(mse_dict).transpose()\n",
    "df.head()\n",
    "# df.to_csv('../experiment/ablation_DT.csv')"
   ]
  },
  {
   "cell_type": "code",
   "execution_count": 24,
   "id": "b81ce188",
   "metadata": {},
   "outputs": [
    {
     "name": "stdout",
     "output_type": "stream",
     "text": [
      "tenure (20029, 71) (6966, 71)\n",
      "Fitting 5 folds for each of 36 candidates, totalling 180 fits\n",
      "rmse on training set:  695741.106232261\n",
      "random_state:  10\n",
      "{'max_depth': 16, 'min_samples_leaf': 1, 'min_samples_split': 4} -1673118.0916657709\n",
      "-------------------------------------------------------\n",
      "built_year (20029, 71) (6966, 71)\n",
      "Fitting 5 folds for each of 36 candidates, totalling 180 fits\n",
      "rmse on training set:  791323.7212613238\n",
      "random_state:  10\n",
      "{'max_depth': 64, 'min_samples_leaf': 2, 'min_samples_split': 2} -1730163.4352907985\n",
      "-------------------------------------------------------\n",
      "size_sqft (20029, 71) (6966, 71)\n",
      "Fitting 5 folds for each of 36 candidates, totalling 180 fits\n",
      "rmse on training set:  1735153.786764865\n",
      "random_state:  10\n",
      "{'max_depth': 16, 'min_samples_leaf': 1, 'min_samples_split': 4} -2398692.308150918\n",
      "-------------------------------------------------------\n",
      "lat (20029, 71) (6966, 71)\n",
      "Fitting 5 folds for each of 36 candidates, totalling 180 fits\n",
      "rmse on training set:  773569.7204722998\n",
      "random_state:  10\n",
      "{'max_depth': 32, 'min_samples_leaf': 2, 'min_samples_split': 2} -1795242.036953933\n",
      "-------------------------------------------------------\n",
      "lng (20029, 71) (6966, 71)\n",
      "Fitting 5 folds for each of 36 candidates, totalling 180 fits\n",
      "rmse on training set:  938176.9181681122\n",
      "random_state:  10\n",
      "{'max_depth': 16, 'min_samples_leaf': 1, 'min_samples_split': 6} -1868316.0874213227\n",
      "-------------------------------------------------------\n",
      "property_type (20029, 53) (6966, 53)\n",
      "Fitting 5 folds for each of 36 candidates, totalling 180 fits\n",
      "rmse on training set:  817034.6666038565\n",
      "random_state:  10\n",
      "{'max_depth': 64, 'min_samples_leaf': 1, 'min_samples_split': 6} -2266301.102096485\n",
      "-------------------------------------------------------\n",
      "furnish (20029, 68) (6966, 68)\n",
      "Fitting 5 folds for each of 36 candidates, totalling 180 fits\n",
      "rmse on training set:  388751.6729451744\n",
      "random_state:  10\n",
      "{'max_depth': 16, 'min_samples_leaf': 1, 'min_samples_split': 2} -1666897.7145084569\n",
      "-------------------------------------------------------\n",
      "pl_area (20029, 28) (6966, 28)\n",
      "Fitting 5 folds for each of 36 candidates, totalling 180 fits\n",
      "rmse on training set:  325429.1343148624\n",
      "random_state:  10\n",
      "{'max_depth': 32, 'min_samples_leaf': 1, 'min_samples_split': 2} -1961162.861077144\n",
      "-------------------------------------------------------\n",
      "CPU times: total: 3.55 s\n",
      "Wall time: 47.2 s\n"
     ]
    }
   ],
   "source": [
    "%%time\n",
    "\n",
    "col_idx_0 = eda.get_col_idx(eda.df.drop(columns=['price']))\n",
    "all_idx = np.array(range(X_train.shape[1]))\n",
    "train_mse_full = 436395.04923679214\n",
    "val_mse_full = 2000172.1511837984\n",
    "\n",
    "mse_dict = {'split': ['Train', 'delta_train', 'Val', 'delta_val']}\n",
    "for key in col_idx.keys():\n",
    "    ids = col_idx[key]\n",
    "    ids = list(set(all_idx) - set(ids))\n",
    "    X_train_sub = X_train[:, ids]\n",
    "    X_test_sub = X_test[:, ids]\n",
    "    print(key, X_train_sub.shape, X_test_sub.shape)\n",
    "    random_state = 10\n",
    "    param_test = {'max_depth':[16, 32, 64, 128], 'min_samples_split':[2, 4, 6], 'min_samples_leaf':[1, 2, 4]}\n",
    "    model = GridSearchCV(estimator = DecisionTreeRegressor(#min_samples_split=2,\n",
    "    #                                                               max_depth=3,\n",
    "                                                                  random_state=random_state),\n",
    "                                                                  param_grid = param_test, \n",
    "                                                                  scoring='neg_root_mean_squared_error',\n",
    "                                                                  n_jobs=4,\n",
    "                                                                  cv=5, verbose=3)\n",
    "    model.fit(X_train_sub, y_train)\n",
    "    y_train_pred = model.predict(X_train_sub)\n",
    "    rmse_train = np.sqrt(mean_squared_error(y_train_pred, y_train))\n",
    "    print('rmse on training set: ', rmse_train)\n",
    "    print('random_state: ', random_state)\n",
    "    print(model.best_params_, model.best_score_)\n",
    "    mse_dict['w/o '+ key] = [rmse_train / 1e6, (rmse_train - train_mse_full) / 1e6, \n",
    "                             -model.best_score_ / 1e6, (-model.best_score_ - val_mse_full) / 1e6]\n",
    "    print('-'*55)"
   ]
  },
  {
   "cell_type": "code",
   "execution_count": 25,
   "id": "cac9f91d",
   "metadata": {},
   "outputs": [
    {
     "data": {
      "text/html": [
       "<div>\n",
       "<style scoped>\n",
       "    .dataframe tbody tr th:only-of-type {\n",
       "        vertical-align: middle;\n",
       "    }\n",
       "\n",
       "    .dataframe tbody tr th {\n",
       "        vertical-align: top;\n",
       "    }\n",
       "\n",
       "    .dataframe thead th {\n",
       "        text-align: right;\n",
       "    }\n",
       "</style>\n",
       "<table border=\"1\" class=\"dataframe\">\n",
       "  <thead>\n",
       "    <tr style=\"text-align: right;\">\n",
       "      <th></th>\n",
       "      <th>0</th>\n",
       "      <th>1</th>\n",
       "      <th>2</th>\n",
       "      <th>3</th>\n",
       "    </tr>\n",
       "  </thead>\n",
       "  <tbody>\n",
       "    <tr>\n",
       "      <th>split</th>\n",
       "      <td>Train</td>\n",
       "      <td>delta_train</td>\n",
       "      <td>Val</td>\n",
       "      <td>delta_val</td>\n",
       "    </tr>\n",
       "    <tr>\n",
       "      <th>w/o tenure</th>\n",
       "      <td>0.695741</td>\n",
       "      <td>0.259346</td>\n",
       "      <td>1.673118</td>\n",
       "      <td>-0.327054</td>\n",
       "    </tr>\n",
       "    <tr>\n",
       "      <th>w/o built_year</th>\n",
       "      <td>0.791324</td>\n",
       "      <td>0.354929</td>\n",
       "      <td>1.730163</td>\n",
       "      <td>-0.270009</td>\n",
       "    </tr>\n",
       "    <tr>\n",
       "      <th>w/o size_sqft</th>\n",
       "      <td>1.735154</td>\n",
       "      <td>1.298759</td>\n",
       "      <td>2.398692</td>\n",
       "      <td>0.39852</td>\n",
       "    </tr>\n",
       "    <tr>\n",
       "      <th>w/o lat</th>\n",
       "      <td>0.77357</td>\n",
       "      <td>0.337175</td>\n",
       "      <td>1.795242</td>\n",
       "      <td>-0.20493</td>\n",
       "    </tr>\n",
       "  </tbody>\n",
       "</table>\n",
       "</div>"
      ],
      "text/plain": [
       "                       0            1         2          3\n",
       "split              Train  delta_train       Val  delta_val\n",
       "w/o tenure      0.695741     0.259346  1.673118  -0.327054\n",
       "w/o built_year  0.791324     0.354929  1.730163  -0.270009\n",
       "w/o size_sqft   1.735154     1.298759  2.398692    0.39852\n",
       "w/o lat          0.77357     0.337175  1.795242   -0.20493"
      ]
     },
     "execution_count": 25,
     "metadata": {},
     "output_type": "execute_result"
    }
   ],
   "source": [
    "df = pd.DataFrame(mse_dict).transpose()\n",
    "df.head()\n",
    "# df.to_csv('../experiment/ablation_wo_DT.csv')"
   ]
  },
  {
   "cell_type": "code",
   "execution_count": null,
   "id": "33241a79",
   "metadata": {},
   "outputs": [],
   "source": []
  },
  {
   "cell_type": "code",
   "execution_count": null,
   "id": "410eac02",
   "metadata": {},
   "outputs": [],
   "source": []
  }
 ],
 "metadata": {
  "kernelspec": {
   "display_name": "Python 3 (ipykernel)",
   "language": "python",
   "name": "python3"
  },
  "language_info": {
   "codemirror_mode": {
    "name": "ipython",
    "version": 3
   },
   "file_extension": ".py",
   "mimetype": "text/x-python",
   "name": "python",
   "nbconvert_exporter": "python",
   "pygments_lexer": "ipython3",
   "version": "3.10.0"
  }
 },
 "nbformat": 4,
 "nbformat_minor": 5
}
