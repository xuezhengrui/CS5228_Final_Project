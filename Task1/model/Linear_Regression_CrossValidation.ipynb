{
 "cells": [
  {
   "cell_type": "code",
   "execution_count": 1,
   "id": "a5db82a2",
   "metadata": {},
   "outputs": [],
   "source": [
    "import pandas as pd\n",
    "import matplotlib.pyplot as plt\n",
    "import seaborn as sns\n",
    "import re\n",
    "import sys\n",
    "import numpy as np\n",
    "from sklearn.linear_model import LinearRegression\n",
    "from sklearn.ensemble import GradientBoostingRegressor, RandomForestRegressor\n",
    "from sklearn import preprocessing\n",
    "from sklearn.model_selection import train_test_split\n",
    "from sklearn.neural_network import MLPRegressor\n",
    "from math import radians, cos, sin, asin, sqrt\n",
    "from sklearn.metrics import mean_squared_error as mse\n",
    "import random\n",
    "from EDA_v1 import *"
   ]
  },
  {
   "cell_type": "code",
   "execution_count": 2,
   "id": "4cb627f3",
   "metadata": {},
   "outputs": [],
   "source": [
    "# specify dataset filepath \n",
    "\n",
    "# --- original train & test dataset ----\n",
    "filepath_test = '../data/test.csv'\n",
    "df_test = pd.read_csv(filepath_test)\n",
    "filepath_train = '../data/train.csv'\n",
    "# filepath_train = '../data/train_cheat2.csv'\n",
    "df_train = pd.read_csv(filepath_train)\n",
    "\n",
    "# --- auxiliary dataset ----\n",
    "filepath_commercial = '../data/auxiliary-data/sg-commerical-centres.csv'\n",
    "filepath_mrt = '../data/auxiliary-data/sg-mrt-stations.csv'\n",
    "filepath_pri_school = '../data/auxiliary-data/sg-primary-schools.csv'\n",
    "filepath_sec_school = '../data/auxiliary-data/sg-secondary-schools.csv'\n",
    "filepath_mall = '../data/auxiliary-data/sg-shopping-malls.csv'\n",
    "filepath_subzone = '../data/auxiliary-data/sg-subzones.csv'\n",
    "\n",
    "df_commercial = pd.read_csv(filepath_commercial)\n",
    "df_mrt = pd.read_csv(filepath_mrt)\n",
    "df_pri_school = pd.read_csv(filepath_pri_school)\n",
    "df_sec_school = pd.read_csv(filepath_sec_school)\n",
    "df_mall = pd.read_csv(filepath_mall)\n",
    "df_subzone = pd.read_csv(filepath_subzone)"
   ]
  },
  {
   "cell_type": "code",
   "execution_count": 3,
   "id": "c0ca9784",
   "metadata": {},
   "outputs": [],
   "source": [
    "def setup(eda):\n",
    "    eda.str_clean_up()\n",
    "    eda.handle_train_abnormal()\n",
    "\n",
    "    # one-hot property type\n",
    "    eda.property_type_method()\n",
    "\n",
    "    eda.tenure_method()\n",
    "    eda.tenure_method(for_test=True)\n",
    "\n",
    "    eda.num_bed_bath_method()\n",
    "    eda.num_bed_bath_method(for_test=True)\n",
    "\n",
    "    eda.built_year_method2()\n",
    "    eda.built_year_method2(for_test=True)\n",
    "    \n",
    "    eda.attach_subzone_auxiliary_info(df_subzone)\n",
    "    eda.attach_subzone_auxiliary_info(df_subzone, for_test=True) \n",
    "    \n",
    "    eda.cal_subzone_population_density(df_subzone)\n",
    "    eda.cal_subzone_population_density(df_subzone, for_test=True)\n",
    "\n",
    "    drop_cols = ['listing_id', 'title', 'address', 'property_name', 'floor_level', 'available_unit_types',\n",
    "                'total_num_units', 'property_details_url', 'elevation','subzone', 'planning_area', 'furnishing',\n",
    "                'property_type', 'lng', 'lat','num_baths']\n",
    "\n",
    "    eda.df.drop(columns=drop_cols, inplace=True)\n",
    "    eda.df_test.drop(columns=drop_cols,inplace=True)  "
   ]
  },
  {
   "cell_type": "code",
   "execution_count": 4,
   "id": "18780cfc",
   "metadata": {},
   "outputs": [],
   "source": [
    "df_train_copy = df_train.copy()\n",
    "df_test_copy = df_test.copy()\n",
    "\n",
    "eda = EDA(df_train_copy, df_test_copy)\n",
    "setup(eda)\n",
    "\n",
    "df_train_y = eda.df['price']\n",
    "df_train_X = eda.df.drop(columns=['price'])\n",
    "X_train = df_train_X.to_numpy(dtype='float32')\n",
    "y_train = df_train_y.to_numpy(dtype='float32')\n",
    "X_test = eda.df_test.to_numpy(dtype='float32')\n",
    "\n",
    "for i in range(X_train.shape[1]):\n",
    "    min_max_scaler = preprocessing.MinMaxScaler()\n",
    "    col_train = X_train[:, i]\n",
    "    col_train = col_train.reshape(-1, 1)\n",
    "    col_train = min_max_scaler.fit_transform(col_train)\n",
    "    X_train[:, i] = col_train.reshape(-1)\n",
    "    \n",
    "    col_test = X_test[:, i]\n",
    "    col_test = col_test.reshape(-1, 1)\n",
    "    col_test = min_max_scaler.transform(col_test)\n",
    "    X_test[:, i] = col_test.reshape(-1)\n",
    "\n",
    "\n",
    "y_train = y_train.reshape(-1)\n",
    "y_train = y_train /10000"
   ]
  },
  {
   "cell_type": "markdown",
   "id": "91fe01ad",
   "metadata": {},
   "source": [
    "## 5-Fold CrossValidation"
   ]
  },
  {
   "cell_type": "code",
   "execution_count": 7,
   "id": "f86d7b62",
   "metadata": {},
   "outputs": [
    {
     "ename": "TypeError",
     "evalue": "__init__() missing 1 required positional argument: 'param_grid'",
     "output_type": "error",
     "traceback": [
      "\u001b[1;31m---------------------------------------------------------------------------\u001b[0m",
      "\u001b[1;31mTypeError\u001b[0m                                 Traceback (most recent call last)",
      "\u001b[1;32m<timed exec>\u001b[0m in \u001b[0;36m<module>\u001b[1;34m\u001b[0m\n",
      "\u001b[1;31mTypeError\u001b[0m: __init__() missing 1 required positional argument: 'param_grid'"
     ]
    }
   ],
   "source": [
    "%%time\n",
    "from sklearn.model_selection import GridSearchCV\n",
    "import warnings\n",
    "warnings.filterwarnings(\"ignore\")\n",
    "\n",
    "model = GridSearchCV(estimator=LinearRegression(), verbose=4, cv=5, scoring='neg_root_mean_squared_error')\n",
    "model.fit(X_train, y_train)"
   ]
  },
  {
   "cell_type": "code",
   "execution_count": 6,
   "id": "b534cc76",
   "metadata": {},
   "outputs": [
    {
     "ename": "NameError",
     "evalue": "name 'model' is not defined",
     "output_type": "error",
     "traceback": [
      "\u001b[1;31m---------------------------------------------------------------------------\u001b[0m",
      "\u001b[1;31mNameError\u001b[0m                                 Traceback (most recent call last)",
      "\u001b[1;32m~\\AppData\\Local\\Temp\\ipykernel_74544\\3020958986.py\u001b[0m in \u001b[0;36m<module>\u001b[1;34m\u001b[0m\n\u001b[1;32m----> 1\u001b[1;33m \u001b[0mmodel\u001b[0m\u001b[1;33m.\u001b[0m\u001b[0mcv_results_\u001b[0m\u001b[1;33m\u001b[0m\u001b[1;33m\u001b[0m\u001b[0m\n\u001b[0m",
      "\u001b[1;31mNameError\u001b[0m: name 'model' is not defined"
     ]
    }
   ],
   "source": [
    "model.cv_results_"
   ]
  },
  {
   "cell_type": "code",
   "execution_count": null,
   "id": "e069b0d5",
   "metadata": {},
   "outputs": [],
   "source": [
    "\n",
    "best_params = model.best_params_\n",
    "best_params"
   ]
  }
 ],
 "metadata": {
  "kernelspec": {
   "display_name": "Python 3 (ipykernel)",
   "language": "python",
   "name": "python3"
  },
  "language_info": {
   "codemirror_mode": {
    "name": "ipython",
    "version": 3
   },
   "file_extension": ".py",
   "mimetype": "text/x-python",
   "name": "python",
   "nbconvert_exporter": "python",
   "pygments_lexer": "ipython3",
   "version": "3.7.8"
  }
 },
 "nbformat": 4,
 "nbformat_minor": 5
}
