{
 "cells": [
  {
   "cell_type": "code",
   "execution_count": 104,
   "id": "8af5b2db",
   "metadata": {},
   "outputs": [
    {
     "name": "stdout",
     "output_type": "stream",
     "text": [
      "The autoreload extension is already loaded. To reload it, use:\n",
      "  %reload_ext autoreload\n"
     ]
    }
   ],
   "source": [
    "%matplotlib notebook\n",
    "# Some more magic so that the notebook will reload external python modules;\n",
    "# see http://stackoverflow.com/questions/1907993/autoreload-of-modules-in-ipython\n",
    "%load_ext autoreload\n",
    "%autoreload 2"
   ]
  },
  {
   "cell_type": "code",
   "execution_count": 105,
   "id": "db09b071",
   "metadata": {},
   "outputs": [],
   "source": [
    "import numpy as np\n",
    "import pandas as pd\n",
    "\n",
    "import matplotlib.pyplot as plt\n",
    "from sklearn.preprocessing import MinMaxScaler\n",
    "from sklearn.model_selection import GridSearchCV\n",
    "from sklearn.model_selection import KFold\n",
    "from sklearn.tree import DecisionTreeRegressor\n",
    "from sklearn.ensemble import GradientBoostingRegressor, RandomForestRegressor\n",
    "from sklearn.neural_network import MLPRegressor\n",
    "from sklearn.metrics import mean_squared_error\n",
    "\n",
    "DATA_DIR = '../data/'"
   ]
  },
  {
   "cell_type": "code",
   "execution_count": 106,
   "id": "74fbf05b",
   "metadata": {},
   "outputs": [],
   "source": [
    "import sys\n",
    "sys.path.append(\"..\") \n",
    "from EDA_v1 import EDA"
   ]
  },
  {
   "cell_type": "code",
   "execution_count": 107,
   "id": "96ac994c",
   "metadata": {},
   "outputs": [
    {
     "name": "stdout",
     "output_type": "stream",
     "text": [
      "(20254, 21) (6966, 20) (6966, 21)\n"
     ]
    }
   ],
   "source": [
    "filepath_test = DATA_DIR + 'test.csv'\n",
    "df_test = pd.read_csv(filepath_test)\n",
    "filepath_train = DATA_DIR + 'train.csv'\n",
    "df_train = pd.read_csv(filepath_train)\n",
    "filepath_test_y = DATA_DIR + 'example-submission.csv'\n",
    "df_test_y = pd.read_csv(filepath_test_y)\n",
    "df_test_xy = df_test.copy()\n",
    "df_test_xy['price'] = df_test_y['Predicted']\n",
    "print(df_train.shape, df_test.shape, df_test_xy.shape)"
   ]
  },
  {
   "cell_type": "code",
   "execution_count": 108,
   "id": "d8321501",
   "metadata": {},
   "outputs": [
    {
     "name": "stdout",
     "output_type": "stream",
     "text": [
      "CPU times: total: 2.52 s\n",
      "Wall time: 2.52 s\n"
     ]
    }
   ],
   "source": [
    "%%time\n",
    "eda = EDA(df_train.copy(), df_test.copy())\n",
    "eda.setup_ablation() # type + tenure + year + size_sqft + furnishing + lng + lat + plan_area_one_hot"
   ]
  },
  {
   "cell_type": "code",
   "execution_count": 109,
   "id": "6e24b871",
   "metadata": {},
   "outputs": [
    {
     "name": "stdout",
     "output_type": "stream",
     "text": [
      "(20032, 73) (6966, 73)\n"
     ]
    }
   ],
   "source": [
    "df_train = eda.df\n",
    "df_test = eda.df_test\n",
    "df_train_y = df_train['price']\n",
    "df_train_X = df_train.drop(columns=['price'])\n",
    "X_train = df_train_X.to_numpy()\n",
    "y_train = df_train_y.to_numpy()\n",
    "X_test = df_test.to_numpy()\n",
    "print(X_train.shape, X_test.shape)\n",
    "# 0 -- tenure, 1 -- built_year, 2 -- num_beds, 3 -- num_baths, 4 -- size_sqft, 5,6 -- lat, lng, 7-11 -- property_type, 12-15 -- furnish"
   ]
  },
  {
   "cell_type": "code",
   "execution_count": null,
   "id": "0411fed5",
   "metadata": {},
   "outputs": [],
   "source": []
  },
  {
   "cell_type": "markdown",
   "id": "7b746825",
   "metadata": {},
   "source": [
    "### Data Scaling"
   ]
  },
  {
   "cell_type": "code",
   "execution_count": 110,
   "id": "f32fca62",
   "metadata": {},
   "outputs": [],
   "source": [
    "for i in range(X_train.shape[1]):\n",
    "    min_max_scaler = MinMaxScaler()\n",
    "    col_train = X_train[:, i]\n",
    "    col_train = col_train.reshape(-1, 1)\n",
    "    col_train = min_max_scaler.fit_transform(col_train)\n",
    "    X_train[:, i] = col_train.reshape(-1)\n",
    "    \n",
    "    col_test = X_test[:, i]\n",
    "    col_test = col_test.reshape(-1, 1)\n",
    "    col_test = min_max_scaler.transform(col_test)\n",
    "    X_test[:, i] = col_test.reshape(-1)\n",
    "\n",
    "y_train = y_train.reshape(-1)"
   ]
  },
  {
   "cell_type": "code",
   "execution_count": 111,
   "id": "f9bd8902",
   "metadata": {},
   "outputs": [
    {
     "name": "stdout",
     "output_type": "stream",
     "text": [
      "[ 514500.  995400. 8485000. ... 4193700.  754800. 4178000.]\n"
     ]
    }
   ],
   "source": [
    "print(y_train)"
   ]
  },
  {
   "cell_type": "code",
   "execution_count": 115,
   "id": "cb196c06",
   "metadata": {},
   "outputs": [
    {
     "name": "stdout",
     "output_type": "stream",
     "text": [
      "Fitting 5 folds for each of 1 candidates, totalling 5 fits\n",
      "rmse on training set:  689040.8512582438\n",
      "random_state:  42\n",
      "{'max_depth': 32, 'min_samples_split': 2, 'n_estimators': 128} -1728202.88424947\n",
      "CPU times: total: 11.7 s\n",
      "Wall time: 26.8 s\n"
     ]
    }
   ],
   "source": [
    "%%time\n",
    "\n",
    "# param_test = {'max_depth':[100, 200, 300], 'min_samples_split':[2]}\n",
    "# param_test = {'n_estimators':[50, 100, 200, 400], 'max_depth':[50, 100, 150], 'min_samples_split':[2, 4, 6]} # 400, 100, 2 -- 171w\n",
    "# param_test = {'n_estimators':[200, 400, 600], 'max_depth':[50, 100, 150], 'min_samples_split':[2, 4]} # # 400, 100, 2 -- 171w\n",
    "# param_test = {'n_estimators':[64, 128, 256], 'max_depth':[16, 32, 64], 'min_samples_split':[2, 8, 32, 128]} \n",
    "# param_test = {'n_estimators':[64, 128, 256], 'max_depth':[16, 32, 64], 'min_samples_split':[2]} \n",
    "param_test = {'n_estimators':[128], 'max_depth':[32], 'min_samples_split':[2]} \n",
    "\n",
    "random_state=42\n",
    "gsearch2 = GridSearchCV(estimator = RandomForestRegressor(n_estimators=100,\n",
    "#                                                               min_samples_split=2,\n",
    "#                                                               max_depth=3,\n",
    "                                                              random_state=random_state),\n",
    "                                                              param_grid = param_test, \n",
    "                                                              scoring='neg_root_mean_squared_error',\n",
    "                                                              n_jobs=8,\n",
    "                                                              cv=5, verbose=3)\n",
    "gsearch2.fit(X_train, y_train)\n",
    "y_train_pred = gsearch2.predict(X_train)\n",
    "model = gsearch2\n",
    "print('rmse on training set: ', np.sqrt(mean_squared_error(y_train_pred, y_train)))\n",
    "print('random_state: ', random_state)\n",
    "print(gsearch2.best_params_, gsearch2.best_score_)\n"
   ]
  },
  {
   "cell_type": "code",
   "execution_count": 102,
   "id": "0f1d6dd6",
   "metadata": {},
   "outputs": [],
   "source": [
    "y_test_pred = model.predict(X_test)\n"
   ]
  },
  {
   "cell_type": "code",
   "execution_count": 103,
   "id": "b4146a9e",
   "metadata": {},
   "outputs": [
    {
     "name": "stdout",
     "output_type": "stream",
     "text": [
      "         Predicted\n",
      "Id                \n",
      "0     1.176839e+06\n",
      "1     1.598417e+06\n",
      "2     1.236259e+06\n",
      "3     6.911619e+05\n",
      "4     5.785035e+05\n",
      "...            ...\n",
      "6961  1.916550e+07\n",
      "6962  1.270702e+07\n",
      "6963  3.563160e+06\n",
      "6964  5.336461e+05\n",
      "6965  4.517913e+06\n",
      "\n",
      "[6966 rows x 1 columns]\n"
     ]
    }
   ],
   "source": [
    "y_test_pred_dict = {'Id':np.arange(len(y_test_pred)),\n",
    "       'Predicted': y_test_pred.flatten()}\n",
    "df_y_test_pred = pd.DataFrame(y_test_pred_dict)\n",
    "df_y_test_pred.set_index(['Id'], inplace=True)\n",
    "print(df_y_test_pred)\n",
    "# df_y_test_pred.to_csv(DATA_DIR+\"submission_RF_172.9w.csv\")"
   ]
  },
  {
   "cell_type": "markdown",
   "id": "59b10728",
   "metadata": {},
   "source": [
    "## Ablation"
   ]
  },
  {
   "cell_type": "code",
   "execution_count": 112,
   "id": "0d9a2286",
   "metadata": {},
   "outputs": [
    {
     "name": "stdout",
     "output_type": "stream",
     "text": [
      "tenure (20032, 1) (6966, 1)\n",
      "Fitting 5 folds for each of 6 candidates, totalling 30 fits\n",
      "rmse on training set:  4486768.631669887\n",
      "random_state:  42\n",
      "{'max_depth': 16, 'min_samples_split': 2, 'n_estimators': 64} -4480501.392387135\n",
      "-------------------------------------------------------\n",
      "built_year (20032, 1) (6966, 1)\n",
      "Fitting 5 folds for each of 6 candidates, totalling 30 fits\n",
      "rmse on training set:  4474683.333130866\n",
      "random_state:  42\n",
      "{'max_depth': 16, 'min_samples_split': 2, 'n_estimators': 128} -4469446.586762218\n",
      "-------------------------------------------------------\n",
      "size_sqft (20032, 1) (6966, 1)\n",
      "Fitting 5 folds for each of 6 candidates, totalling 30 fits\n",
      "rmse on training set:  2316557.172482086\n",
      "random_state:  42\n",
      "{'max_depth': 16, 'min_samples_split': 2, 'n_estimators': 64} -2709736.404229038\n",
      "-------------------------------------------------------\n",
      "lat (20032, 1) (6966, 1)\n",
      "Fitting 5 folds for each of 6 candidates, totalling 30 fits\n",
      "rmse on training set:  2185600.4373027165\n",
      "random_state:  42\n",
      "{'max_depth': 32, 'min_samples_split': 2, 'n_estimators': 64} -3112738.8852097755\n",
      "-------------------------------------------------------\n",
      "lng (20032, 1) (6966, 1)\n",
      "Fitting 5 folds for each of 6 candidates, totalling 30 fits\n",
      "rmse on training set:  2200815.77513024\n",
      "random_state:  42\n",
      "{'max_depth': 32, 'min_samples_split': 2, 'n_estimators': 64} -3185030.2142981617\n",
      "-------------------------------------------------------\n",
      "property_type (20032, 20) (6966, 20)\n",
      "Fitting 5 folds for each of 6 candidates, totalling 30 fits\n",
      "rmse on training set:  3360558.8600132535\n",
      "random_state:  42\n",
      "{'max_depth': 32, 'min_samples_split': 2, 'n_estimators': 128} -3373826.246318143\n",
      "-------------------------------------------------------\n",
      "furnish (20032, 4) (6966, 4)\n",
      "Fitting 5 folds for each of 6 candidates, totalling 30 fits\n",
      "rmse on training set:  4689559.2464051265\n",
      "random_state:  42\n",
      "{'max_depth': 16, 'min_samples_split': 2, 'n_estimators': 128} -4682194.0567927845\n",
      "-------------------------------------------------------\n",
      "pl_area (20032, 44) (6966, 44)\n",
      "Fitting 5 folds for each of 6 candidates, totalling 30 fits\n",
      "rmse on training set:  4143131.5931872413\n",
      "random_state:  42\n",
      "{'max_depth': 32, 'min_samples_split': 2, 'n_estimators': 64} -4149688.699162866\n",
      "-------------------------------------------------------\n",
      "CPU times: total: 8.62 s\n",
      "Wall time: 55.6 s\n"
     ]
    }
   ],
   "source": [
    "%%time\n",
    "\n",
    "col_idx = eda.get_col_idx(eda.df.drop(columns=['price']))\n",
    "mse_dict = {'split': ['Train', 'Val']}\n",
    "for key in col_idx.keys():\n",
    "    ids = col_idx[key]\n",
    "    X_train_sub = X_train[:, ids]\n",
    "    X_test_sub = X_test[:, ids]\n",
    "    print(key, X_train_sub.shape, X_test_sub.shape)\n",
    "    param_test = {'n_estimators':[32, 64, 128], 'max_depth':[16, 32], 'min_samples_split':[2]} \n",
    "    random_state=42\n",
    "    model = GridSearchCV(estimator = RandomForestRegressor(n_estimators=100,\n",
    "    #                                                               min_samples_split=2,\n",
    "    #                                                               max_depth=3,\n",
    "                                                                  random_state=random_state),\n",
    "                                                                  param_grid = param_test, \n",
    "                                                                  scoring='neg_root_mean_squared_error',\n",
    "                                                                  n_jobs=8,\n",
    "                                                                  cv=5, verbose=3)\n",
    "    model.fit(X_train_sub, y_train)\n",
    "    y_train_pred = model.predict(X_train_sub)\n",
    "    rmse_train = np.sqrt(mean_squared_error(y_train_pred, y_train))\n",
    "    print('rmse on training set: ', rmse_train)\n",
    "    print('random_state: ', random_state)\n",
    "    print(model.best_params_, model.best_score_)\n",
    "    mse_dict[key] = [rmse_train / 1e6, -model.best_score_ / 1e6]\n",
    "    print('-'*55)"
   ]
  },
  {
   "cell_type": "code",
   "execution_count": 113,
   "id": "2e310cce",
   "metadata": {},
   "outputs": [],
   "source": [
    "df = pd.DataFrame(mse_dict).transpose()\n",
    "df.head()\n",
    "# df.to_csv('../experiment/ablation_RF.csv')"
   ]
  },
  {
   "cell_type": "code",
   "execution_count": 116,
   "id": "98624082",
   "metadata": {},
   "outputs": [
    {
     "name": "stdout",
     "output_type": "stream",
     "text": [
      "tenure (20032, 72) (6966, 72)\n",
      "Fitting 5 folds for each of 6 candidates, totalling 30 fits\n",
      "rmse on training set:  694721.4069274782\n",
      "random_state:  42\n",
      "{'max_depth': 32, 'min_samples_split': 2, 'n_estimators': 128} -1730772.5752973321\n",
      "-------------------------------------------------------\n",
      "built_year (20032, 72) (6966, 72)\n",
      "Fitting 5 folds for each of 6 candidates, totalling 30 fits\n",
      "rmse on training set:  691572.8027442286\n",
      "random_state:  42\n",
      "{'max_depth': 32, 'min_samples_split': 2, 'n_estimators': 64} -1716742.6118333158\n",
      "-------------------------------------------------------\n",
      "size_sqft (20032, 72) (6966, 72)\n",
      "Fitting 5 folds for each of 6 candidates, totalling 30 fits\n",
      "rmse on training set:  1754494.7289211988\n",
      "random_state:  42\n",
      "{'max_depth': 16, 'min_samples_split': 2, 'n_estimators': 128} -2377112.6283360953\n",
      "-------------------------------------------------------\n",
      "lat (20032, 72) (6966, 72)\n",
      "Fitting 5 folds for each of 6 candidates, totalling 30 fits\n",
      "rmse on training set:  683911.5906543623\n",
      "random_state:  42\n",
      "{'max_depth': 32, 'min_samples_split': 2, 'n_estimators': 128} -1716613.0356542815\n",
      "-------------------------------------------------------\n",
      "lng (20032, 72) (6966, 72)\n",
      "Fitting 5 folds for each of 6 candidates, totalling 30 fits\n",
      "rmse on training set:  713942.4932361532\n",
      "random_state:  42\n",
      "{'max_depth': 32, 'min_samples_split': 2, 'n_estimators': 128} -1773705.9571358517\n",
      "-------------------------------------------------------\n",
      "property_type (20032, 53) (6966, 53)\n",
      "Fitting 5 folds for each of 6 candidates, totalling 30 fits\n",
      "rmse on training set:  757566.0745658032\n",
      "random_state:  42\n",
      "{'max_depth': 32, 'min_samples_split': 2, 'n_estimators': 64} -1849240.8378193614\n",
      "-------------------------------------------------------\n",
      "furnish (20032, 69) (6966, 69)\n",
      "Fitting 5 folds for each of 6 candidates, totalling 30 fits\n",
      "rmse on training set:  706079.0674685681\n",
      "random_state:  42\n",
      "{'max_depth': 32, 'min_samples_split': 2, 'n_estimators': 128} -1750126.148226807\n",
      "-------------------------------------------------------\n",
      "pl_area (20032, 29) (6966, 29)\n",
      "Fitting 5 folds for each of 6 candidates, totalling 30 fits\n",
      "rmse on training set:  742976.1009532897\n",
      "random_state:  42\n",
      "{'max_depth': 16, 'min_samples_split': 2, 'n_estimators': 64} -1826088.6358152658\n",
      "-------------------------------------------------------\n",
      "CPU times: total: 1min 6s\n",
      "Wall time: 5min 29s\n"
     ]
    }
   ],
   "source": [
    "%%time\n",
    "\n",
    "col_idx_0 = eda.get_col_idx(eda.df.drop(columns=['price']))\n",
    "all_idx = np.array(range(X_train.shape[1]))\n",
    "train_mse_full = 689040.8512582438\n",
    "val_mse_full = 1728202.88424947\n",
    "\n",
    "mse_dict = {'split': ['Train', 'delta_train', 'Val', 'delta_val']}\n",
    "for key in col_idx.keys():\n",
    "    ids = col_idx[key]\n",
    "    ids = list(set(all_idx) - set(ids))\n",
    "    X_train_sub = X_train[:, ids]\n",
    "    X_test_sub = X_test[:, ids]\n",
    "    print(key, X_train_sub.shape, X_test_sub.shape)\n",
    "    param_test = {'n_estimators':[32, 64, 128], 'max_depth':[16, 32], 'min_samples_split':[2]} \n",
    "    random_state=42\n",
    "    model = GridSearchCV(estimator = RandomForestRegressor(n_estimators=100,\n",
    "    #                                                               min_samples_split=2,\n",
    "    #                                                               max_depth=3,\n",
    "                                                                  random_state=random_state),\n",
    "                                                                  param_grid = param_test, \n",
    "                                                                  scoring='neg_root_mean_squared_error',\n",
    "                                                                  n_jobs=8,\n",
    "                                                                  cv=5, verbose=3)\n",
    "    model.fit(X_train_sub, y_train)\n",
    "    y_train_pred = model.predict(X_train_sub)\n",
    "    rmse_train = np.sqrt(mean_squared_error(y_train_pred, y_train))\n",
    "    print('rmse on training set: ', rmse_train)\n",
    "    print('random_state: ', random_state)\n",
    "    print(model.best_params_, model.best_score_)\n",
    "    mse_dict['w/o '+ key] = [rmse_train / 1e6, (rmse_train - train_mse_full) / 1e6, \n",
    "                             -model.best_score_ / 1e6, (-model.best_score_ - val_mse_full) / 1e6]\n",
    "    print('-'*55)"
   ]
  },
  {
   "cell_type": "code",
   "execution_count": 117,
   "id": "e6f24805",
   "metadata": {},
   "outputs": [],
   "source": [
    "df = pd.DataFrame(mse_dict).transpose()\n",
    "df.head()\n",
    "# df.to_csv('../experiment/ablation_wo_RF.csv')"
   ]
  }
 ],
 "metadata": {
  "kernelspec": {
   "display_name": "Python 3 (ipykernel)",
   "language": "python",
   "name": "python3"
  },
  "language_info": {
   "codemirror_mode": {
    "name": "ipython",
    "version": 3
   },
   "file_extension": ".py",
   "mimetype": "text/x-python",
   "name": "python",
   "nbconvert_exporter": "python",
   "pygments_lexer": "ipython3",
   "version": "3.10.0"
  }
 },
 "nbformat": 4,
 "nbformat_minor": 5
}
