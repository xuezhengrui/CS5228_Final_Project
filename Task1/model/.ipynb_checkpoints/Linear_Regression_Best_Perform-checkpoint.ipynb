{
 "cells": [
  {
   "cell_type": "code",
   "execution_count": null,
   "id": "81aefb4a",
   "metadata": {},
   "outputs": [],
   "source": [
    "import pandas as pd\n",
    "import matplotlib.pyplot as plt\n",
    "import seaborn as sns\n",
    "import re\n",
    "import sys\n",
    "import numpy as np\n",
    "from sklearn.linear_model import LinearRegression\n",
    "from sklearn.ensemble import GradientBoostingRegressor, RandomForestRegressor\n",
    "from sklearn import preprocessing\n",
    "from sklearn.model_selection import train_test_split\n",
    "from sklearn.neural_network import MLPRegressor\n",
    "from math import radians, cos, sin, asin, sqrt\n",
    "from sklearn.metrics import mean_squared_error as mse\n",
    "from EDA_v1 import *"
   ]
  },
  {
   "cell_type": "code",
   "execution_count": null,
   "id": "92e2b53a",
   "metadata": {},
   "outputs": [],
   "source": [
    "# specify dataset filepath \n",
    "\n",
    "# --- original train & test dataset ----\n",
    "filepath_test = '../data/test.csv'\n",
    "df_test = pd.read_csv(filepath_test)\n",
    "filepath_train = '../data/train.csv'\n",
    "# filepath_train = '../data/train_cheat2.csv'\n",
    "df_train = pd.read_csv(filepath_train)\n",
    "\n",
    "# --- auxiliary dataset ----\n",
    "filepath_commercial = '../data/auxiliary-data/sg-commerical-centres.csv'\n",
    "filepath_mrt = '../data/auxiliary-data/sg-mrt-stations.csv'\n",
    "filepath_pri_school = '../data/auxiliary-data/sg-primary-schools.csv'\n",
    "filepath_sec_school = '../data/auxiliary-data/sg-secondary-schools.csv'\n",
    "filepath_mall = '../data/auxiliary-data/sg-shopping-malls.csv'\n",
    "filepath_subzone = '../data/auxiliary-data/sg-subzones.csv'\n",
    "\n",
    "df_commercial = pd.read_csv(filepath_commercial)\n",
    "df_mrt = pd.read_csv(filepath_mrt)\n",
    "df_pri_school = pd.read_csv(filepath_pri_school)\n",
    "df_sec_school = pd.read_csv(filepath_sec_school)\n",
    "df_mall = pd.read_csv(filepath_mall)\n",
    "df_subzone = pd.read_csv(filepath_subzone)"
   ]
  },
  {
   "cell_type": "markdown",
   "id": "84dedac2",
   "metadata": {},
   "source": [
    "## EDA and Preprocessing"
   ]
  },
  {
   "cell_type": "code",
   "execution_count": null,
   "id": "14dff93f",
   "metadata": {},
   "outputs": [],
   "source": [
    "def best_perform_with_aux(eda):\n",
    "    eda.str_clean_up()\n",
    "    eda.handle_train_abnormal()\n",
    "\n",
    "    # one-hot property type\n",
    "    eda.property_type_method()\n",
    "\n",
    "    eda.tenure_method()\n",
    "    eda.tenure_method(for_test=True)\n",
    "\n",
    "    eda.num_bed_bath_method()\n",
    "    eda.num_bed_bath_method(for_test=True)\n",
    "\n",
    "    eda.built_year_method2()\n",
    "    eda.built_year_method2(for_test=True)\n",
    "    \n",
    "    eda.attach_subzone_auxiliary_info(df_subzone)\n",
    "    eda.attach_subzone_auxiliary_info(df_subzone, for_test=True) \n",
    "    \n",
    "    eda.cal_subzone_population_density(df_subzone)\n",
    "    eda.cal_subzone_population_density(df_subzone, for_test=True)\n",
    "\n",
    "    drop_cols = ['listing_id', 'title', 'address', 'property_name', 'floor_level', 'available_unit_types',\n",
    "                'total_num_units', 'property_details_url', 'elevation','subzone', 'planning_area', 'furnishing',\n",
    "                'property_type', 'lng', 'lat','num_baths']\n",
    "\n",
    "    eda.df.drop(columns=drop_cols, inplace=True)\n",
    "    eda.df_test.drop(columns=drop_cols,inplace=True)  "
   ]
  },
  {
   "cell_type": "code",
   "execution_count": null,
   "id": "6edd8643",
   "metadata": {},
   "outputs": [],
   "source": [
    "df_train_copy = df_train.copy()\n",
    "df_test_copy = df_test.copy()\n",
    "\n",
    "eda = EDA(df_train_copy, df_test_copy)\n",
    "best_perform_with_aux(eda)\n",
    "\n",
    "df_train_y = eda.df['price']\n",
    "df_train_X = eda.df.drop(columns=['price'])\n",
    "X_train = df_train_X.to_numpy(dtype='float32')\n",
    "y_train = df_train_y.to_numpy(dtype='float32')\n",
    "X_test = eda.df_test.to_numpy(dtype='float32')"
   ]
  },
  {
   "cell_type": "markdown",
   "id": "de2519a1",
   "metadata": {},
   "source": [
    "## Max-min Scale"
   ]
  },
  {
   "cell_type": "code",
   "execution_count": null,
   "id": "c91f3846",
   "metadata": {},
   "outputs": [],
   "source": [
    "for i in range(X_train.shape[1]):\n",
    "    min_max_scaler = preprocessing.MinMaxScaler()\n",
    "    col_train = X_train[:, i]\n",
    "    col_train = col_train.reshape(-1, 1)\n",
    "    col_train = min_max_scaler.fit_transform(col_train)\n",
    "    X_train[:, i] = col_train.reshape(-1)\n",
    "    \n",
    "    col_test = X_test[:, i]\n",
    "    col_test = col_test.reshape(-1, 1)\n",
    "    col_test = min_max_scaler.transform(col_test)\n",
    "    X_test[:, i] = col_test.reshape(-1)\n",
    "\n",
    "\n",
    "y_train = y_train.reshape(-1)\n",
    "y_train = y_train / 10000"
   ]
  },
  {
   "cell_type": "markdown",
   "id": "0c342363",
   "metadata": {},
   "source": [
    "## Model Training"
   ]
  },
  {
   "cell_type": "code",
   "execution_count": null,
   "id": "295576b3",
   "metadata": {},
   "outputs": [],
   "source": [
    "lr = LinearRegression()\n",
    "lr.fit(X_train, y_train)"
   ]
  },
  {
   "cell_type": "markdown",
   "id": "014bce10",
   "metadata": {},
   "source": [
    "## Model Prediction"
   ]
  },
  {
   "cell_type": "code",
   "execution_count": null,
   "id": "19d9549b",
   "metadata": {},
   "outputs": [],
   "source": [
    "y_test = lr.predict(X_test)\n",
    "y_test = abs(y_test * 10000)\n",
    "output_arr = pd.DataFrame(y_test)\n",
    "output_dict = {\n",
    "    'Id': output_arr.index.to_numpy(),\n",
    "    'Predicted': y_test,\n",
    "}\n",
    "output = pd.DataFrame(output_dict)\n",
    "output.to_csv(\"../data/best_lr_with_aux.csv\", index=False)"
   ]
  }
 ],
 "metadata": {
  "kernelspec": {
   "display_name": "Python 3 (ipykernel)",
   "language": "python",
   "name": "python3"
  },
  "language_info": {
   "codemirror_mode": {
    "name": "ipython",
    "version": 3
   },
   "file_extension": ".py",
   "mimetype": "text/x-python",
   "name": "python",
   "nbconvert_exporter": "python",
   "pygments_lexer": "ipython3",
   "version": "3.7.8"
  }
 },
 "nbformat": 4,
 "nbformat_minor": 5
}
